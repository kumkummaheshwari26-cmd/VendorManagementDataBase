{
 "cells": [
  {
   "cell_type": "code",
   "execution_count": 17,
   "id": "ef00fad6-92f3-4134-9e25-f0cee95db95b",
   "metadata": {},
   "outputs": [],
   "source": [
    "import pandas as pd\n",
    "import os\n",
    "from sqlalchemy import create_engine\n",
    "import time \n",
    "import logging\n",
    "\n",
    "logging.basicConfig(\n",
    "    filename=\"logs/ingestion_db.log\",\n",
    "    level=logging.DEBUG,\n",
    "    format=\"%(asctime)s - %(levelname)s - %(message)s\",\n",
    "    filemode=\"a\"\n",
    ")\n",
    "\n",
    "engine = create_engine('sqlite:///inventory.db')\n",
    "\n",
    "def ingest_db(df, table_name, engine):\n",
    "    # The chunksize parameter tells pandas to break the DataFrame into smaller pieces\n",
    "    # (e.g., 50,000 rows at a time) before sending them to the database.\n",
    "    # This function will ingest the dataframe into database table.\n",
    "    df.to_sql(\n",
    "        table_name,\n",
    "        con=engine, \n",
    "        if_exists='replace', \n",
    "        index=False,\n",
    "        chunksize=10000  # <--- ADD THIS LINE\n",
    "    )\n",
    "\n",
    "def load_raw_data():\n",
    "    ## this function will load the CSVs as a dataframe and ingest into db\n",
    "    start = time.time()\n",
    "    for file in os.listdir('data'):\n",
    "        if '.csv' in file:\n",
    "            df = pd.read_csv('data/'+file)\n",
    "            logging.info(f'Ingesting {file} in db')\n",
    "            ingest_db(df, file[:-4], engine)\n",
    "    \n",
    "    end = time.time()\n",
    "    total_time = (end - start)/60\n",
    "    logging.info('-------------------Ingestion Complete-------------------')\n",
    "    \n",
    "    logging.info(f'\\nTotal Time Taken: {total_time} minutes')\n",
    "if __name__ == '__main__':\n",
    "    load_raw_data()\n",
    "    "
   ]
  }
 ],
 "metadata": {
  "kernelspec": {
   "display_name": "Python 3 (env)",
   "language": "python",
   "name": "env"
  },
  "language_info": {
   "codemirror_mode": {
    "name": "ipython",
    "version": 3
   },
   "file_extension": ".py",
   "mimetype": "text/x-python",
   "name": "python",
   "nbconvert_exporter": "python",
   "pygments_lexer": "ipython3",
   "version": "3.13.2"
  }
 },
 "nbformat": 4,
 "nbformat_minor": 5
}
